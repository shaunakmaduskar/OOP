{
  "nbformat": 4,
  "nbformat_minor": 0,
  "metadata": {
    "colab": {
      "name": "Lab-Assignment-2.ipynb",
      "provenance": [],
      "collapsed_sections": []
    },
    "kernelspec": {
      "name": "python3",
      "display_name": "Python 3"
    },
    "language_info": {
      "name": "python"
    }
  },
  "cells": [
    {
      "cell_type": "code",
      "metadata": {
        "id": "TZCYrg7-nrIZ",
        "colab": {
          "base_uri": "https://localhost:8080/"
        },
        "outputId": "dbfd0b3e-7c1f-4421-b022-c136b30ea57b"
      },
      "source": [
        "class circle () :\n",
        "  def __init__(self,radius) :\n",
        "    self.radius = radius\n",
        "  def area(self) :\n",
        "    self.area = 3.14*self.radius**2\n",
        "    return self.area\n",
        "  def perimeter(self) :\n",
        "    self.perimeter = 2*3.14*self.radius\n",
        "    return self.perimeter\n",
        "cir = circle(4)\n",
        "print(cir.perimeter())\n",
        "print(cir.area())   "
      ],
      "execution_count": null,
      "outputs": [
        {
          "output_type": "stream",
          "name": "stdout",
          "text": [
            "25.12\n",
            "50.24\n"
          ]
        }
      ]
    },
    {
      "cell_type": "code",
      "metadata": {
        "id": "0LvpT1hDrCSI"
      },
      "source": [
        "class faculty() :\n",
        "  def __init__(self,name,empid,branch,salary) :\n",
        "    self.name = name\n",
        "    self.empid = empid\n",
        "    self.branch = branch \n",
        "    self.salary = salary\n",
        "  def display(self) :\n",
        "    print(self.name)\n",
        "    print(self.empid)\n",
        "    print(self.branch)\n",
        "    print(self.salary)\n"
      ],
      "execution_count": null,
      "outputs": []
    },
    {
      "cell_type": "code",
      "metadata": {
        "colab": {
          "base_uri": "https://localhost:8080/"
        },
        "id": "CmelAvz-2rWN",
        "outputId": "3f7d281e-759e-4f38-ff0f-8c87bb98ba5c"
      },
      "source": [
        "class account () :\n",
        "  def __init__(self,AcNo, Acname, Amount) :\n",
        "    self.num = AcNo\n",
        "    self.name = Acname\n",
        "    self.amount = Amount\n",
        "  \n",
        "  def deposit(self) :\n",
        "    n = int(input('Enter account number'))\n",
        "    x = input('Enter account name')\n",
        "    if n == self.num and x == self.name :\n",
        "      dep = int(input('Enter amount to be deposited')) \n",
        "      self.amount += dep\n",
        "  def withdraw(self) :\n",
        "    n = int(input('Enter account number'))\n",
        "    x = input('Enter account name')\n",
        "    if n == self.num and x == self.name :\n",
        "      wit = int(input('Enter amount to be withdrawn')) \n",
        "      self.amount -= wit\n",
        "  def check(self) :\n",
        "    n = int(input('Enter account number'))\n",
        "    x = input('Enter account name')\n",
        "    if n == self.num and x == self.name :\n",
        "      print('The account balance is ')\n",
        "      print(self.amount)\n",
        "  def display(self) :\n",
        "    n = int(input('Enter account number'))\n",
        "    x = input('Enter account name')\n",
        "    if n == self.num and x == self.name :\n",
        "      print('Account Number : %6d \\n Account name : %s \\n Account amount : %6.2f' %(self.num,self.name,self.amount))\n",
        "\n",
        "money = account(1234,'Sam',1000)\n",
        "money.display()"
      ],
      "execution_count": null,
      "outputs": [
        {
          "output_type": "stream",
          "name": "stdout",
          "text": [
            "Enter account number1234\n",
            "Enter account nameSam\n",
            "Account Number :   1234 \n",
            " Account name : Sam \n",
            " Account amount : 1000.00\n"
          ]
        }
      ]
    },
    {
      "cell_type": "code",
      "metadata": {
        "colab": {
          "base_uri": "https://localhost:8080/"
        },
        "id": "y56bUBNF9YMx",
        "outputId": "8242bd17-e2e5-4c16-fd77-963b36424ea0"
      },
      "source": [
        "class student ():\n",
        "  def __init__(self,name,num,phy,che,mat) :\n",
        "    self.name = name\n",
        "    self.usn = int(num)\n",
        "    self.phy = int(phy)\n",
        "    self.che = int(che)\n",
        "    self.mat = int(mat)\n",
        "    marks = list()\n",
        "    marks.append(self.phy)\n",
        "    marks.append(self.che)\n",
        "    marks.append(self.mat)\n",
        "  def display(self) :\n",
        "    print('Name : %s'%(self.name))\n",
        "    print('USN : %s'%(self.usn))\n",
        "    print('Marks : ',end='')\n",
        "    marks = list()\n",
        "    marks.append(self.phy)\n",
        "    marks.append(self.che)\n",
        "    marks.append(self.mat)\n",
        "    print(marks)\n",
        "s1 = student('Sam',1234,90,95,96)\n",
        "s1.display()"
      ],
      "execution_count": null,
      "outputs": [
        {
          "output_type": "stream",
          "name": "stdout",
          "text": [
            "Name : Sam\n",
            "USN : 1234\n",
            "Marks : [90, 95, 96]\n"
          ]
        }
      ]
    },
    {
      "cell_type": "code",
      "metadata": {
        "id": "d5T6hq3ZDuCX",
        "colab": {
          "base_uri": "https://localhost:8080/"
        },
        "outputId": "77eea3af-9efd-42e2-efd3-73cce31cae33"
      },
      "source": [
        "class covid () :\n",
        "  global o2support\n",
        "  global general_ward\n",
        "  o2support =[]\n",
        "  general_ward =[]\n",
        "  def __init__(self,name,doa,symp,o2,dod) :\n",
        "    self.name = name\n",
        "    self.doa = doa\n",
        "    self.o2 = o2\n",
        "    self.symp = symp\n",
        "    self.dod = dod \n",
        "  \n",
        "    if self.o2 < 90 :\n",
        "      o2support.append(self.name)\n",
        "      print('Number of patients on o2 support')\n",
        "      print(len(o2support))\n",
        "    else :\n",
        "      general_ward.append(self.name)\n",
        "      print('Number of patients in general ward')\n",
        "      print(len(general_ward))\n",
        "    print('Total number of patients %d'%(len(o2support)+len(general_ward)))\n",
        "    \n",
        "Ron = covid('Ron','13 Jan 2021',['cold','fever'],93,'24 Feb 2021')\n"
      ],
      "execution_count": null,
      "outputs": [
        {
          "output_type": "stream",
          "name": "stdout",
          "text": [
            "Number of patients in general ward\n",
            "1\n",
            "Total number of patients 1\n"
          ]
        }
      ]
    },
    {
      "cell_type": "code",
      "metadata": {
        "colab": {
          "base_uri": "https://localhost:8080/"
        },
        "id": "EWtP8-Hzh3KY",
        "outputId": "09fe9c63-fe84-4b9a-c2c0-d95c3c5ead84"
      },
      "source": [
        "class time(object) :\n",
        "  def __init__(self) :\n",
        "    self.hours = 0\n",
        "    self.minutes = 0\n",
        "    self.seconds = 0\n",
        "    self.ret = self.setTime(0,0,0)\n",
        "\n",
        "  def setvalue(self,H,M,S) :\n",
        "    self.ret = self.setTime(H,M,S)\n",
        "    \n",
        "  def dis(self):\n",
        "    self.ret.display()\n",
        "\n",
        "\n",
        "  class setTime() :\n",
        "    def __init__(self,h,m,s) :\n",
        "      self.hours = h\n",
        "      self.minutes = m\n",
        "      self.seconds = s\n",
        "    \n",
        "    def display(self) :\n",
        "      print(' %d : %d : %d '%(self.hours,self.minutes,self.seconds))\n",
        "a = time()\n",
        "a.dis()\n",
        "a.setvalue(18,32,47)\n",
        "a.dis()"
      ],
      "execution_count": null,
      "outputs": [
        {
          "output_type": "stream",
          "name": "stdout",
          "text": [
            " 0 : 0 : 0 \n",
            " 18 : 32 : 47 \n"
          ]
        }
      ]
    },
    {
      "cell_type": "code",
      "metadata": {
        "colab": {
          "base_uri": "https://localhost:8080/"
        },
        "id": "y06_wTm4adyP",
        "outputId": "b22517ac-c44c-4449-8f88-81ecfe802f05"
      },
      "source": [
        "class student_details():\n",
        "  def __init__(self,name,age,num) :\n",
        "    self.name = name\n",
        "    self.age = age\n",
        "    self.num = num\n",
        "    \n",
        "  @staticmethod\n",
        "  def compare(a,b) :\n",
        "    if a.age != b.age :\n",
        "      print('their age is not equal')\n",
        "    else :\n",
        "      print('their age is equal')\n",
        "Rahul = student_details('Rahul',21,33)\n",
        "Rohit = student_details('Rohit',22,74)\n",
        "compare(Rahul,Rohit)"
      ],
      "execution_count": null,
      "outputs": [
        {
          "output_type": "stream",
          "name": "stdout",
          "text": [
            "their age is not equal\n"
          ]
        }
      ]
    },
    {
      "cell_type": "code",
      "metadata": {
        "colab": {
          "base_uri": "https://localhost:8080/"
        },
        "id": "HYXBJGW9cIdG",
        "outputId": "bd0f29c9-7f39-4cff-849e-bae470b5d67a"
      },
      "source": [
        "class details_institute() :\n",
        "  global sem\n",
        "  global institute\n",
        "  sem = 3\n",
        "  institute = 'IIIT Dharwad'\n",
        "  def __init__(self,name,usn) :\n",
        "    self.name = name\n",
        "    self.usn = usn\n",
        "  \n",
        "  def instance_method(self) :\n",
        "    print(self.name)\n",
        "    print(self.usn)\n",
        "    print('This message was printed using an instance method')\n",
        "\n",
        "  @classmethod\n",
        "  def class_method(cls) :\n",
        "    print(sem)\n",
        "    print(institute)\n",
        "    print('This message was printed using a class method')\n",
        "  \n",
        "  @staticmethod\n",
        "  def static_method() :\n",
        "    print('This program was coded so as to learn the different methods in a class')\n",
        "    print('This message was printed using a static method')\n",
        "\n",
        "I = details_institute('Tim',1234)\n",
        "I.instance_method()\n",
        "I.class_method()\n",
        "I.static_method()\n",
        "C = details_institute.class_method()\n",
        "details_institute.static_method()"
      ],
      "execution_count": null,
      "outputs": [
        {
          "output_type": "stream",
          "name": "stdout",
          "text": [
            "Tim\n",
            "1234\n",
            "This message was printed using an instance method\n",
            "3\n",
            "IIIT Dharwad\n",
            "This message was printed using a class method\n",
            "This program was coded so as to learn the different methods in a class\n",
            "This message was printed using a static method\n",
            "3\n",
            "IIIT Dharwad\n",
            "This message was printed using a class method\n",
            "This program was coded so as to learn the different methods in a class\n",
            "This message was printed using a static method\n"
          ]
        }
      ]
    },
    {
      "cell_type": "code",
      "metadata": {
        "colab": {
          "base_uri": "https://localhost:8080/"
        },
        "id": "dQ20darYi5uG",
        "outputId": "432e5986-a095-42f1-d706-dec0ec383097"
      },
      "source": [
        "class studnt():\n",
        "  def __init__(self,name,num,sem):\n",
        "    self.name = name\n",
        "    self.num = num\n",
        "    self.sem = sem\n",
        "    self.laptop = self.Laptop('0 GHz','0 GB','0 TB','0x0p')\n",
        "\n",
        "  def setLaptop(self,C,R,H,S):\n",
        "    self.laptop = self.Laptop(C,R,H,S)\n",
        "    self.laptop.output()\n",
        "\n",
        "  class Laptop() :\n",
        "    def __init__(self,cpu,ram,hdd,scr):\n",
        "      self.cpu = cpu\n",
        "      self.ram = ram\n",
        "      self.hdd = hdd\n",
        "      self.scr = scr\n",
        "\n",
        "    def output(self) :\n",
        "      print('CPU : %s  RAM : %s  HDD : %s  RES : %s'%(self.cpu,self.ram,self.hdd,self.scr))\n",
        "  \n",
        "A = studnt('Rohan',2236,4)\n",
        "A.setLaptop('20 GHz','128 GB','16 TB','2160X1080p')\n",
        "A.setLaptop('10 GHz','64 GB','4 TB','720x480p')\n",
        "\n",
        "\n"
      ],
      "execution_count": null,
      "outputs": [
        {
          "output_type": "stream",
          "name": "stdout",
          "text": [
            "CPU : 20 GHz  RAM : 128 GB  HDD : 16 TB  RES : 2160X1080p\n",
            "CPU : 10 GHz  RAM : 64 GB  HDD : 4 TB  RES : 720x480p\n"
          ]
        }
      ]
    }
  ]
}