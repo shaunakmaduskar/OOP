{
  "nbformat": 4,
  "nbformat_minor": 0,
  "metadata": {
    "colab": {
      "name": "Lab Assignment 5.ipynb",
      "provenance": [],
      "authorship_tag": "ABX9TyPxBTwrW4tk+GFcS6mPI9JO",
      "include_colab_link": true
    },
    "kernelspec": {
      "name": "python3",
      "display_name": "Python 3"
    },
    "language_info": {
      "name": "python"
    }
  },
  "cells": [
    {
      "cell_type": "markdown",
      "metadata": {
        "id": "view-in-github",
        "colab_type": "text"
      },
      "source": [
        "<a href=\"https://colab.research.google.com/github/shaunakmaduskar/OOP/blob/main/Lab_Assignment_5.ipynb\" target=\"_parent\"><img src=\"https://colab.research.google.com/assets/colab-badge.svg\" alt=\"Open In Colab\"/></a>"
      ]
    },
    {
      "cell_type": "code",
      "metadata": {
        "colab": {
          "base_uri": "https://localhost:8080/"
        },
        "id": "GmyYbUbjoiMc",
        "outputId": "afc0d8ca-96a2-4919-edf8-8e27da2d383b"
      },
      "source": [
        "from abc import ABC, abstractmethod\n",
        "import math\n",
        "class Shape(ABC):\n",
        "  def __init__(self, shape):\n",
        "    self.shape = shape\n",
        "\n",
        "  @abstractmethod\n",
        "  def area(self):\n",
        "    pass\n",
        "\n",
        "class Rectangle(Shape):\n",
        "  def __init__(self, length, breadth):\n",
        "    Shape.__init__(self, 'Rectangle')\n",
        "    self.length = length\n",
        "    self.breadth = breadth\n",
        "\n",
        "  def area(self):\n",
        "    return self.length*self.breadth\n",
        "\n",
        "class Circle(Shape):\n",
        "  def __init__(self, radius):\n",
        "    Shape.__init__(self, 'Circle')\n",
        "    self.radius = radius\n",
        "\n",
        "  def area(self):\n",
        "    return round((math.pi)*(self.radius**2),3)\n",
        "\n",
        "class Square(Shape):\n",
        "  def __init__(self, side):\n",
        "    Shape.__init__(self, 'Square')\n",
        "    self.side = side\n",
        "\n",
        "  def area(self):\n",
        "    return self.side*self.side\n",
        "\n",
        "s = Square(5)\n",
        "print(\"Area of square :\", s.area())\n",
        "r = Rectangle(3,4)\n",
        "print(\"Area of rectangle :\", r.area())\n",
        "c = Circle(2)\n",
        "print(\"Area of circle :\", c.area())"
      ],
      "execution_count": 9,
      "outputs": [
        {
          "output_type": "stream",
          "name": "stdout",
          "text": [
            "Area of square : 25\n",
            "Area of rectangle : 12\n",
            "Area of circle : 12.566\n"
          ]
        }
      ]
    },
    {
      "cell_type": "code",
      "metadata": {
        "colab": {
          "base_uri": "https://localhost:8080/"
        },
        "id": "aji79zHxtJS8",
        "outputId": "21b03f30-8350-48b3-cacd-c4d4d083a5f3"
      },
      "source": [
        "from abc import ABC, abstractmethod\n",
        "class Travel(ABC):\n",
        "  def __init__(self, num, distance, mode):\n",
        "    self.__num = num\n",
        "    self.distance = distance\n",
        "    self.mode = mode\n",
        "\n",
        "  @abstractmethod\n",
        "  def cost(self):\n",
        "    pass\n",
        "\n",
        "class Bus(Travel):\n",
        "  def __init__(self, num, distance):\n",
        "    Travel.__init__(self, num, distance, 'Bus')\n",
        "\n",
        "  def cost(self):\n",
        "    return 100*self._Travel__num                    \n",
        "\n",
        "class Train(Travel):\n",
        "  def __init__(self, num, distance):\n",
        "    Travel.__init__(self, num, distance, 'Train')\n",
        "\n",
        "  def cost(self):\n",
        "    return 60*self._Travel__num\n",
        "\n",
        "dist = 76.8                \n",
        "trainTrip = Train(4, dist)\n",
        "print(\"Train cost :\", trainTrip.cost())\n",
        "busTrip = Bus(4, dist)\n",
        "print(\"Bus cost :\", busTrip.cost())"
      ],
      "execution_count": 10,
      "outputs": [
        {
          "output_type": "stream",
          "name": "stdout",
          "text": [
            "Train cost : 240\n",
            "Bus cost : 400\n"
          ]
        }
      ]
    },
    {
      "cell_type": "code",
      "metadata": {
        "colab": {
          "base_uri": "https://localhost:8080/"
        },
        "id": "1BKT2xm5urbE",
        "outputId": "f5e87270-c24b-4e98-cb19-fe07fc088e0f"
      },
      "source": [
        "class Car:\n",
        "  def __init__(self, number):\n",
        "    self.number = number\n",
        "\n",
        "  def change(self, num):\n",
        "    self.number = num\n",
        "\n",
        "def swap(o1, o2):\n",
        "  temp = o1.number \n",
        "  o1.change(o2.number)\n",
        "  o2.change(temp)\n",
        "\n",
        "c1 = Car(3054)\n",
        "c2 = Car(9455)\n",
        "print(\"c1: {0}  c2: {1}\".format(c1.number, c2.number))\n",
        "swap(c1, c2)\n",
        "print(\"c1: {0}  c2: {1}\".format(c1.number, c2.number))"
      ],
      "execution_count": 14,
      "outputs": [
        {
          "output_type": "stream",
          "name": "stdout",
          "text": [
            "c1: 3054  c2: 9455\n",
            "c1: 9455  c2: 3054\n"
          ]
        }
      ]
    }
  ]
}