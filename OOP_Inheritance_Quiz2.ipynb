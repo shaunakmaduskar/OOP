{
  "nbformat": 4,
  "nbformat_minor": 0,
  "metadata": {
    "colab": {
      "name": "OOP-Inheritance-Quiz2.ipynb",
      "provenance": [],
      "collapsed_sections": []
    },
    "kernelspec": {
      "name": "python3",
      "display_name": "Python 3"
    },
    "language_info": {
      "name": "python"
    }
  },
  "cells": [
    {
      "cell_type": "code",
      "metadata": {
        "id": "kx8_0STwI5pg",
        "outputId": "0ccd904d-7054-4150-fb4e-4f91dfe03b0b",
        "colab": {
          "base_uri": "https://localhost:8080/"
        }
      },
      "source": [
        "# Problem 1: Create a Player class\n",
        "class Player:\n",
        "    MAX_POSITION = 10     # Class attribute   \n",
        "    def __init__(self):\n",
        "      self.position = 0 \n",
        "print(Player.MAX_POSITION)    # instance accessing Class attribute\n",
        "# Create a player p and print its MAX_POSITITON\n",
        "p = Player()\n",
        "print(p.MAX_POSITION)  # what is the oputput?"
      ],
      "execution_count": 1,
      "outputs": [
        {
          "output_type": "stream",
          "name": "stdout",
          "text": [
            "10\n",
            "10\n"
          ]
        }
      ]
    },
    {
      "cell_type": "markdown",
      "metadata": {
        "id": "la0RUaeEIMTb"
      },
      "source": [
        "### OOP - Inheritance - **Quiz**\n",
        "### P1 -  what will happen if you try to assign another value to a class attribute when accessing it from an instance?\n",
        "The value gets overridden and the instance uses the new value as the attribute"
      ]
    },
    {
      "cell_type": "code",
      "metadata": {
        "id": "h0OOoK8gIQAH"
      },
      "source": [
        "# Problem 2:\n",
        "# Create Players p1 and p2\n",
        "# Print p1.MAX_SPEED and p2.MAX_SPEED\n",
        "# Assign 7 to p1.MAX_SPEED\n",
        "# Print p1.MAX_SPEED and p2.MAX_SPEED\n",
        "# Print Player.MAX_SPEED"
      ],
      "execution_count": 2,
      "outputs": []
    },
    {
      "cell_type": "code",
      "metadata": {
        "colab": {
          "base_uri": "https://localhost:8080/"
        },
        "id": "28dJmpUYXmjt",
        "outputId": "ddbca5aa-6474-4732-b973-35d6af3fafa2"
      },
      "source": [
        "## Problem2 :\n",
        "class Player:\n",
        "    MAX_POSITION = 10     # Class attribute   \n",
        "    def __init__(self):\n",
        "      self.position = 0\n",
        "class Racer(Player):\n",
        "    MAX_SPEED = 5      # adding attributes to Child Class\n",
        "p = Player()\n",
        "r = Racer()\n",
        "# What is the output?\n",
        "  \n",
        "print(\"r.MAX_SPEED = \", r.MAX_SPEED)\n",
        "print(\"p.MAX_POSITION = \", p.MAX_POSITION)\n",
        "print(\"r.MAX_POSITION = \", r.MAX_POSITION)"
      ],
      "execution_count": 14,
      "outputs": [
        {
          "output_type": "stream",
          "name": "stdout",
          "text": [
            "r.MAX_SPEED =  5\n",
            "p.MAX_POSITION =  10\n",
            "r.MAX_POSITION =  10\n"
          ]
        }
      ]
    },
    {
      "cell_type": "code",
      "metadata": {
        "colab": {
          "base_uri": "https://localhost:8080/"
        },
        "id": "2eug9ZMOZLZx",
        "outputId": "fac010be-57d9-4a5c-8b7a-8382d02fa2da"
      },
      "source": [
        "# Problem 3: making changes in Child class methods\n",
        "class Employee:\n",
        "    def __init__(self, name, salary=30000):\n",
        "        self.name = name\n",
        "        self.salary = salary\n",
        "    def give_raise(self, amount):\n",
        "        self.salary += amount        \n",
        "class Manager(Employee):\n",
        "    def display(self):\n",
        "        print(\"Manager \", self.name)\n",
        "    def __init__(self, name, salary=50000, project=None):\n",
        "        Employee.__init__(self, name, salary)\n",
        "        self.project = project\n",
        "    def give_raise(self, amount, bonus=1.05): # Add a give_raise method\n",
        "        new_amount = amount * bonus\n",
        "        Employee.give_raise(self, new_amount)  # what is the diff?\n",
        "mngr = Manager(\"Ram\", 78500)\n",
        "mngr.give_raise(1000)\n",
        "print(mngr.salary)   # what is the output?\n",
        "mngr.give_raise(2000, bonus=1.03)\n",
        "print(mngr.salary)"
      ],
      "execution_count": 4,
      "outputs": [
        {
          "output_type": "stream",
          "name": "stdout",
          "text": [
            "79550.0\n",
            "81610.0\n"
          ]
        }
      ]
    },
    {
      "cell_type": "markdown",
      "metadata": {
        "id": "I02uCDC6LUXZ"
      },
      "source": [
        "### Alternative constructors\n",
        "* Python allows  to define class methods as well, using the @classmethod decorator and a special first argument cls. \n",
        "* The main use of class methods is defining methods that return an instance of the class, but aren't using the same code as __init__().\n",
        "Example : \n",
        "* we are  defining  own class for working with dates, BetterDate. The attributes of the class will be year, month, and day. \n",
        "* We want to create another  constructor that creates BetterDate objects given the values for year, month, and day, but you also want to be able to create BetterDate objects from strings like 2020-04-30"
      ]
    },
    {
      "cell_type": "code",
      "metadata": {
        "colab": {
          "base_uri": "https://localhost:8080/"
        },
        "id": "kgcTkrRLMAOS",
        "outputId": "07a4bbcb-c592-44f2-85a9-fc7da06f9edc"
      },
      "source": [
        "# Problem 4: Alternative Constructor \n",
        "class MyDate:\n",
        "    def __init__(self, year, month, day):     # Constructor\n",
        "      # Python allows multiple variable assignments in one line\n",
        "      self.year, self.month, self.day = year, month, day    \n",
        "    # Define a class method from_str\n",
        "    @classmethod\n",
        "    def from_str(cls, datestr):\n",
        "    # Split the string at \"-\" and  convert each part to integer\n",
        "        parts = datestr.split(\"-\")\n",
        "        year, month, day = int(parts[0]), int(parts[1]), int(parts[2])\n",
        "        return cls(year, month, day)       # Return the class instance  \n",
        "bd = MyDate.from_str('2021-09-08')   \n",
        "print(bd.year)\n",
        "print(bd.month)\n",
        "print(bd.day)"
      ],
      "execution_count": 5,
      "outputs": [
        {
          "output_type": "stream",
          "name": "stdout",
          "text": [
            "2021\n",
            "9\n",
            "8\n"
          ]
        }
      ]
    },
    {
      "cell_type": "code",
      "metadata": {
        "id": "nYTswZ10Nsp7",
        "outputId": "b9b0d7ac-aa9f-41a1-ba09-2aa60d6612e5",
        "colab": {
          "base_uri": "https://localhost:8080/"
        }
      },
      "source": [
        "## Problem 5 : Define a subclass \n",
        "class Employee:\n",
        "  MIN_SALARY = 30000    \n",
        "  def __init__(self, name, salary=MIN_SALARY):\n",
        "      self.name = name\n",
        "      if salary >= Employee.MIN_SALARY:\n",
        "        self.salary = salary\n",
        "      else:\n",
        "        self.salary = Employee.MIN_SALARY\n",
        "  def give_raise(self, amount):\n",
        "      self.salary += amount        \n",
        "# Define a new class Manager inheriting from Employee\n",
        "class Manager(Employee):\n",
        "  pass\n",
        "# Define a Manager object or child class \n",
        "mng = Manager('Andrew')\n",
        "# Print mng's name\n",
        "print(mng.name)"
      ],
      "execution_count": 9,
      "outputs": [
        {
          "output_type": "stream",
          "name": "stdout",
          "text": [
            "Andrew\n"
          ]
        }
      ]
    },
    {
      "cell_type": "markdown",
      "metadata": {
        "id": "yPlYTxmhOyQB"
      },
      "source": [
        "### Method inheritance"
      ]
    },
    {
      "cell_type": "code",
      "metadata": {
        "id": "EO_5zDDDO4qH"
      },
      "source": [
        "class Employee:\n",
        "    def __init__(self, name, salary=30000):\n",
        "        self.name = name\n",
        "        self.salary = salary\n",
        "    def give_raise(self, amount):\n",
        "        self.salary += amount        \n",
        "class Manager(Employee):\n",
        "  # Add a constructor \n",
        "    def __init__(self, name, __):\n",
        "        # Call the parent's constructor   \n",
        "        __.__(__, __, salary)\n",
        "        # Assign project attribute\n",
        "        __ \n",
        "    def display(self):\n",
        "        print(\"Manager \", self.name)\n",
        " "
      ],
      "execution_count": 12,
      "outputs": []
    },
    {
      "cell_type": "code",
      "metadata": {
        "id": "jdLifzmVPRVn"
      },
      "source": [
        "class Employee:\n",
        "    def __init__(self, name, salary=30000):\n",
        "        self.name = name\n",
        "        self.salary = salary\n",
        "    def give_raise(self, amount):\n",
        "        self.salary += amount       \n",
        "class Manager(Employee):\n",
        "  # Add a constructor \n",
        "    def __init__(self, name, salary=50000, project=None):\n",
        "        Employee.__init__(self, name, salary) # Call the parent's constructor \n",
        "        self.project = project      # Assign project attribute\n",
        "    def display(self):\n",
        "        print(\"Manager \", self.name)\n",
        "  "
      ],
      "execution_count": 13,
      "outputs": []
    },
    {
      "cell_type": "markdown",
      "metadata": {
        "id": "6TcV9F15cmcB"
      },
      "source": [
        "### Which of the following statements about inheritance of class attributes is correct?\n",
        "* Class attributes CANNOT be inherited, but new class attributes of the same name CAN be created in a child class.\n",
        "* Class attributes CANNOT be inherited, and new class attributes of the same name CANNOT be created in a child class.\n",
        "* Class attributes CAN be inherited, and the value of class attributes CAN be overwritten in the child class\n",
        "* Class attributes can be inherited, and the value of class attributes CANNOT be overwritten in the child class\n",
        "\n",
        "Option 3 is correct as python, being an OOP language, allows inheritance and polymorphism"
      ]
    }
  ]
}