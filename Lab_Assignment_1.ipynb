{
  "nbformat": 4,
  "nbformat_minor": 0,
  "metadata": {
    "colab": {
      "name": "Lab-Assignment-1.ipynb",
      "provenance": [],
      "collapsed_sections": []
    },
    "kernelspec": {
      "name": "python3",
      "display_name": "Python 3"
    },
    "language_info": {
      "name": "python"
    }
  },
  "cells": [
    {
      "cell_type": "code",
      "metadata": {
        "colab": {
          "base_uri": "https://localhost:8080/"
        },
        "id": "xJdAqai4Pm9l",
        "outputId": "ebcab737-651d-4dcc-ca50-0fce80feb954"
      },
      "source": [
        "def isLeapYear(year):\n",
        "  if year%400 == 0:\n",
        "    return True\n",
        "  elif year%4 == 0 and year%100 !=0:\n",
        "    return True\n",
        "  else:\n",
        "    return False\n",
        "years = [2004, 2018, 2001, 2010]\n",
        "for year in years:\n",
        "  if isLeapYear(year) == True:\n",
        "    print(\"{0} is a leap year\".format(year))\n",
        "  else:\n",
        "    print(\"{0} is not a leap year\".format(year))"
      ],
      "execution_count": 1,
      "outputs": [
        {
          "output_type": "stream",
          "name": "stdout",
          "text": [
            "2004 is a leap year\n",
            "2018 is not a leap year\n",
            "2001 is not a leap year\n",
            "2010 is not a leap year\n"
          ]
        }
      ]
    },
    {
      "cell_type": "code",
      "metadata": {
        "colab": {
          "base_uri": "https://localhost:8080/"
        },
        "id": "3dntiyMSQXPV",
        "outputId": "2db157d1-072d-4ff3-ca68-8fd879023575"
      },
      "source": [
        "def isWeird(num):\n",
        "  if num%2 != 0:\n",
        "    print(\"Weird\")\n",
        "  elif num%2 == 0 and num in range(2,6):\n",
        "    print(\"Not Weird\")\n",
        "  elif num%2 == 0 and num in range (6,21):\n",
        "    print(\"Weird\")\n",
        "  elif num%2 == 0 and num>20:\n",
        "    print(\"Not Weird\")\n",
        "\n",
        "isWeird(10)"
      ],
      "execution_count": 2,
      "outputs": [
        {
          "output_type": "stream",
          "name": "stdout",
          "text": [
            "Weird\n"
          ]
        }
      ]
    },
    {
      "cell_type": "code",
      "metadata": {
        "colab": {
          "base_uri": "https://localhost:8080/"
        },
        "id": "dIdfV7mlUaKX",
        "outputId": "fa63f6dc-706b-4de3-a87b-6320bb7803f9"
      },
      "source": [
        "def isFashionablyLate(guests, guest):\n",
        "  l=[]\n",
        "  for i in range(len(guests)//2-1,len(guests)) :\n",
        "    l.append(guests[i])\n",
        "  if guest in l :\n",
        "    print(\"{0} is fashionably late.\".format(guest))\n",
        "    return True\n",
        "  else :\n",
        "    print(\"{0} is not fashionably late.\".format(guest))\n",
        "    return False\n",
        "\n",
        "Arrivals = ['Hardik', 'Rahul', 'Virat', 'Rishabh', 'Mahi', 'Rohit', 'Rahane']\n",
        "isFashionablyLate(Arrivals, 'Virat')\n",
        "isFashionablyLate(Arrivals, 'Rahane')"
      ],
      "execution_count": 2,
      "outputs": [
        {
          "output_type": "stream",
          "name": "stdout",
          "text": [
            "Virat is fashionably late.\n",
            "Rahane is fashionably late.\n"
          ]
        },
        {
          "output_type": "execute_result",
          "data": {
            "text/plain": [
              "True"
            ]
          },
          "metadata": {},
          "execution_count": 2
        }
      ]
    },
    {
      "cell_type": "code",
      "metadata": {
        "colab": {
          "base_uri": "https://localhost:8080/"
        },
        "id": "4xi4Lhffvp5w",
        "outputId": "4e9fe236-d6bd-4ef0-a428-e8dea880a0d8"
      },
      "source": [
        "def filterArt(l,t):\n",
        "  newList =[]\n",
        "  final=[]\n",
        "  s = t.replace(',',' ').replace('.',' ').replace(\"'\",' ').casefold()\n",
        "  for i in l :\n",
        "    r = i.replace(',',' ').replace('.',' ').replace(\"'\",' ').casefold().split(' ')\n",
        "    newList.append(r)\n",
        "\n",
        "  for k in range(len(newList)) :\n",
        "    if s in newList[k] :\n",
        "      final.append(l[k])\n",
        "  \n",
        "  return final \n",
        "\n",
        "doc_list = ['The Learning Python Challenge Rohit.', 'They bought a car.', \"Rohit's adventures\", \"python libraries\", \"bangalore\"]\n",
        "print(filterArt(doc_list, 'Rohit'))\n",
        "print(filterArt(doc_list, 'Python'))"
      ],
      "execution_count": 18,
      "outputs": [
        {
          "output_type": "stream",
          "name": "stdout",
          "text": [
            "['The Learning Python Challenge Rohit.', \"Rohit's adventures\"]\n",
            "['The Learning Python Challenge Rohit.', 'python libraries']\n"
          ]
        }
      ]
    },
    {
      "cell_type": "code",
      "metadata": {
        "colab": {
          "base_uri": "https://localhost:8080/"
        },
        "id": "YzNinaXl8zF0",
        "outputId": "67e149f9-9a5f-4853-f855-e399ee3bb686"
      },
      "source": [
        "def grossPay(BP):\n",
        "  DA = 0.4*BP\n",
        "  GRA = 0.2*BP\n",
        "  return BP+DA+GRA\n",
        "BP = int(input(\"Enter your basic pay: \"))\n",
        "print(\"Gross pay is: {0}\".format(grossPay(BP)))"
      ],
      "execution_count": 15,
      "outputs": [
        {
          "output_type": "stream",
          "name": "stdout",
          "text": [
            "Enter your basic pay: 1000\n",
            "Gross pay is: 1600.0\n"
          ]
        }
      ]
    }
  ]
}